{
 "cells": [
  {
   "cell_type": "markdown",
   "metadata": {},
   "source": [
    "# TASK\n",
    "\n",
    "Consider the large scale Twitter friendship dataset available at Twitter Friends (kaggle.com) of full\n",
    "Twitter user profile data (40K users), including friendship relationship. We want to explore this\n",
    "friendship relation to construct a network graph where User IDs are nodes and a directed edge from\n",
    "IDx to IDy if IDy is listed as a friend of IDx.\n",
    "\n",
    "1. Use NetworkX to display the corresponding network, suggest an approach to visualize this\n",
    "dense network using visualization tool of your choice (NetworkX is not ideal for dense\n",
    "graphs). Save the adjacency matrix of this graph in a separate file.\n",
    "2. Write a script that uses NetworkX functions to calculate diameter, average clustering\n",
    "coefficient and average path length of the network.\n",
    "3. Write a script that plots the degree centrality distribution and closeness centrality\n",
    "distribution.\n",
    "4. We want to test the extent to which the centrality distributions in 3) fit a power law\n",
    "distribution. You may inspire from the implementation in powerlaw · PyPI of the power-law\n",
    "distribution, or can use alternative one of your choice. It is important to quantify the\n",
    "goodness of fit using p-value. Typically, when p-value is greater than 10%, we can state that\n",
    "power-law is a plausible fit to the (distribution) data.\n",
    "5. Write a script that calculates the number of triangles in the network.\n",
    "6. Write a script that identifies the largest strongly connected component, second largest, third\n",
    "largest. Display each component (If there is more than one component for a given case,\n",
    "then draw one at random).\n",
    "7. Write a script that calculates the shortest distance between any pair of the strongly\n",
    "connected components in 5). Present the result in a table. Comment on the separability\n",
    "between the above components.\n",
    "8. We want to identify relevant communities from the subnetwork graph corresponding to the\n",
    "largest, second largest and third largest component. For this purpose, use Label propagation\n",
    "algorithm implementation in NetworkX to identify the main communities. Write a script\n",
    "that uses different color for each community and visualize the above graph with the detected\n",
    "communities. Use the appropriate function in NetworkX to compute the separation among\n",
    "the various communities and any other related quality measures. Comment on the quality of\n",
    "the partition.\n",
    "9. We want to evaluate the evolution of the triangles (transitivity relation in the network). For\n",
    "this purpose, we consider time increment as an accumulation of one thousand successive\n",
    "rows in the original dataset. Suggest a script that calculates the evolution of the proportion\n",
    "of triangles (number of triangles over the total number of nodes up to time t, basically t=1,\n",
    "2,…,40), and draws the corresponding graph.\n",
    "10. From 9), write a script that identifies instances of triplet nodes A, B, C such at time t A is\n",
    "connected to B and B is connected to C but A is not connected to C, while in time t+1, A\n",
    "becomes connected to C. Check for theses instances whether the link prediction using\n",
    "common neighbor (probability A being connected to C increases with the number of\n",
    "common neighbours between A and B). Write the result in a table.\n",
    "11. Suggest appropriate literature to comment on the various findings and explore the limitation\n",
    "of the reasoning pipeline."
   ]
  },
  {
   "cell_type": "markdown",
   "metadata": {},
   "source": [
    "The data contains the following columns:\n",
    "- avatar: URL to the profile picture\n",
    "- followerCount: the number of followers of this user\n",
    "- friendsCount: the number of people following this user\n",
    "- friendName: stores the @name (without the '@') of the user (beware this name can be changed by the user)\n",
    "- id: user ID, this number can not change (you can retrieve screen name with this service: https://tweeterid.com/)\n",
    "- friends: the list of IDs the user follows (data stored is IDs of users followed by this user)\n",
    "- lang: the language declared by the user (in this dataset there is only \"en\" (english))\n",
    "- lastSeen: the time stamp of the date when this user have post his last tweet\n",
    "- tags: the hashtags (with or without #) used by the user. It's the \"trending topic\" the user tweeted about\n",
    "- tweetID: ID of the last tweet posted by this user"
   ]
  },
  {
   "cell_type": "code",
   "execution_count": null,
   "metadata": {},
   "outputs": [],
   "source": [
    "import networkx as nx\n",
    "import matplotlib.pyplot as plt\n",
    "import numpy as np\n",
    "import scipy"
   ]
  },
  {
   "cell_type": "code",
   "execution_count": null,
   "metadata": {},
   "outputs": [],
   "source": [
    "# open the csv file\n",
    "with open('data.csv', 'r') as f:\n",
    "    data = f.readlines()"
   ]
  },
  {
   "cell_type": "code",
   "execution_count": null,
   "metadata": {},
   "outputs": [],
   "source": [
    "def create_graph(data):\n",
    "    G = nx.Graph()\n",
    "    for line in data:\n",
    "        line = line.strip().split(',')\n",
    "        id = line[0].strip('\"').strip()\n",
    "        screenName = line[1].strip('\" ')\n",
    "        tags = line[2].strip('[] ').replace('\"', '')\n",
    "        avatar = line[3].strip('\" ')\n",
    "        followersCount = line[4]\n",
    "        friendsCount = line[5]\n",
    "        lang = line[6].strip('\" ')\n",
    "        lastSeen = line[7]\n",
    "        tweetId = line[8].replace('\"', '').strip()\n",
    "        friends = line[9][1:-1].split(', ')\n",
    "        # strip the quotes\n",
    "        friends = [friend.replace('\"', '').strip() for friend in friends]\n",
    "        G.add_node(id, screenName=screenName, tags=tags, avatar=avatar, followersCount=followersCount, friendsCount=friendsCount, lang=lang, lastSeen=lastSeen, tweetId=tweetId)\n",
    "        for friend in friends:\n",
    "            G.add_edge(id, friend)\n",
    "    print(f'Number of nodes: {G.number_of_nodes()} Number of edges: {G.number_of_edges()}')\n",
    "    return G\n",
    "\n",
    "G = create_graph(data)\n",
    "\n",
    "# create a visualization using Gephi\n",
    "# export the graph to a GEXF file\n",
    "# nx.write_gexf(G, 'graph.gexf')\n",
    "# print('Graph exported to graph.gexf')\n",
    "# open the file in Gephi and visualize the graph\n",
    "\n",
    "# Save the adjacency matrix\n",
    "adj_matrix = nx.adjacency_matrix(G)\n",
    "scipy.sparse.save_npz('adj_matrix.npz', adj_matrix)\n",
    "\n",
    "# Visualize the graph using NetworkX (not ideal for dense graphs)\n",
    "# draw only the first 1000 nodes, use screenName as labels, node size = 100\n",
    "G = G.subgraph(list(G.nodes())[:100])\n",
    "pos = nx.spring_layout(G)\n",
    "plt.figure(figsize=(20, 20))\n",
    "nx.draw(G, pos, with_labels=True, labels=nx.get_node_attributes(G, 'screenName'), node_size=80, font_size=6, linewidths=0.1, edge_color='gray')\n",
    "plt.show()\n",
    "\n"
   ]
  },
  {
   "cell_type": "code",
   "execution_count": null,
   "metadata": {},
   "outputs": [],
   "source": []
  }
 ],
 "metadata": {
  "kernelspec": {
   "display_name": "venv",
   "language": "python",
   "name": "python3"
  },
  "language_info": {
   "codemirror_mode": {
    "name": "ipython",
    "version": 3
   },
   "file_extension": ".py",
   "mimetype": "text/x-python",
   "name": "python",
   "nbconvert_exporter": "python",
   "pygments_lexer": "ipython3",
   "version": "3.12.1"
  }
 },
 "nbformat": 4,
 "nbformat_minor": 2
}
